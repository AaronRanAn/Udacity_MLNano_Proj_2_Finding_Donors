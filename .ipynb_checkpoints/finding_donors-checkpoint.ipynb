{
 "cells": [
  {
   "cell_type": "markdown",
   "metadata": {},
   "source": [
    "# Machine Learning Engineer Nanodegree\n",
    "## Supervised Learning\n",
    "## Project: Finding Donors for *CharityML*"
   ]
  },
  {
   "cell_type": "markdown",
   "metadata": {},
   "source": [
    "Welcome to the second project of the Machine Learning Engineer Nanodegree! In this notebook, some template code has already been provided for you, and it will be your job to implement the additional functionality necessary to successfully complete this project. Sections that begin with **'Implementation'** in the header indicate that the following block of code will require additional functionality which you must provide. Instructions will be provided for each section and the specifics of the implementation are marked in the code block with a `'TODO'` statement. Please be sure to read the instructions carefully!\n",
    "\n",
    "In addition to implementing code, there will be questions that you must answer which relate to the project and your implementation. Each section where you will answer a question is preceded by a **'Question X'** header. Carefully read each question and provide thorough answers in the following text boxes that begin with **'Answer:'**. Your project submission will be evaluated based on your answers to each of the questions and the implementation you provide.  \n",
    "\n",
    ">**Note:** Code and Markdown cells can be executed using the **Shift + Enter** keyboard shortcut. In addition, Markdown cells can be edited by typically double-clicking the cell to enter edit mode."
   ]
  },
  {
   "cell_type": "markdown",
   "metadata": {},
   "source": [
    "## Getting Started\n",
    "\n",
    "In this project, you will employ several supervised algorithms of your choice to accurately model individuals' income using data collected from the 1994 U.S. Census. You will then choose the best candidate algorithm from preliminary results and further optimize this algorithm to best model the data. Your goal with this implementation is to construct a model that accurately predicts whether an individual makes more than $50,000. This sort of task can arise in a non-profit setting, where organizations survive on donations.  Understanding an individual's income can help a non-profit better understand how large of a donation to request, or whether or not they should reach out to begin with.  While it can be difficult to determine an individual's general income bracket directly from public sources, we can (as we will see) infer this value from other publically available features. \n",
    "\n",
    "The dataset for this project originates from the [UCI Machine Learning Repository](https://archive.ics.uci.edu/ml/datasets/Census+Income). The datset was donated by Ron Kohavi and Barry Becker, after being published in the article _\"Scaling Up the Accuracy of Naive-Bayes Classifiers: A Decision-Tree Hybrid\"_. You can find the article by Ron Kohavi [online](https://www.aaai.org/Papers/KDD/1996/KDD96-033.pdf). The data we investigate here consists of small changes to the original dataset, such as removing the `'fnlwgt'` feature and records with missing or ill-formatted entries."
   ]
  },
  {
   "cell_type": "markdown",
   "metadata": {},
   "source": [
    "----\n",
    "## Exploring the Data\n",
    "Run the code cell below to load necessary Python libraries and load the census data. Note that the last column from this dataset, `'income'`, will be our target label (whether an individual makes more than, or at most, $50,000 annually). All other columns are features about each individual in the census database."
   ]
  },
  {
   "cell_type": "markdown",
   "metadata": {},
   "source": [
    "> Since I built two environments for python, checking if the notebook is using version 2.7"
   ]
  },
  {
   "cell_type": "code",
   "execution_count": 94,
   "metadata": {
    "collapsed": false
   },
   "outputs": [
    {
     "data": {
      "text/plain": [
       "sys.version_info(major=2, minor=7, micro=12, releaselevel='final', serial=0)"
      ]
     },
     "execution_count": 94,
     "metadata": {},
     "output_type": "execute_result"
    }
   ],
   "source": [
    "import sys\n",
    "sys.version_info"
   ]
  },
  {
   "cell_type": "code",
   "execution_count": 95,
   "metadata": {
    "collapsed": false
   },
   "outputs": [],
   "source": [
    "# standard import\n",
    "from __future__ import division\n",
    "\n",
    "import numpy as np\n",
    "import pandas as pd\n",
    "from time import time\n",
    "from IPython.display import display # Allows the use of display() for DataFrames\n",
    "\n",
    "# import supplementary visualization code visuals.py\n",
    "import visuals as vs\n",
    "\n",
    "# import models from sk-learn\n",
    "\n",
    "from sklearn.linear_model import LogisticRegression\n",
    "from sklearn.linear_model import SGDClassifier\n",
    "from sklearn.svm import SVC\n",
    "from sklearn.ensemble import RandomForestClassifier\n",
    "\n",
    "# import model eval metrics\n",
    "\n",
    "from sklearn.metrics import fbeta_score\n",
    "from sklearn.metrics import accuracy_score\n",
    "from sklearn.grid_search import GridSearchCV\n",
    "from sklearn.metrics import make_scorer\n",
    "\n",
    "# Pretty display for notebooks\n",
    "%matplotlib inline"
   ]
  },
  {
   "cell_type": "markdown",
   "metadata": {},
   "source": [
    "Load and peak into data"
   ]
  },
  {
   "cell_type": "code",
   "execution_count": 96,
   "metadata": {
    "collapsed": false
   },
   "outputs": [
    {
     "data": {
      "text/html": [
       "<div>\n",
       "<table border=\"1\" class=\"dataframe\">\n",
       "  <thead>\n",
       "    <tr style=\"text-align: right;\">\n",
       "      <th></th>\n",
       "      <th>age</th>\n",
       "      <th>workclass</th>\n",
       "      <th>education_level</th>\n",
       "      <th>education-num</th>\n",
       "      <th>marital-status</th>\n",
       "      <th>occupation</th>\n",
       "      <th>relationship</th>\n",
       "      <th>race</th>\n",
       "      <th>sex</th>\n",
       "      <th>capital-gain</th>\n",
       "      <th>capital-loss</th>\n",
       "      <th>hours-per-week</th>\n",
       "      <th>native-country</th>\n",
       "      <th>income</th>\n",
       "    </tr>\n",
       "  </thead>\n",
       "  <tbody>\n",
       "    <tr>\n",
       "      <th>0</th>\n",
       "      <td>39</td>\n",
       "      <td>State-gov</td>\n",
       "      <td>Bachelors</td>\n",
       "      <td>13.0</td>\n",
       "      <td>Never-married</td>\n",
       "      <td>Adm-clerical</td>\n",
       "      <td>Not-in-family</td>\n",
       "      <td>White</td>\n",
       "      <td>Male</td>\n",
       "      <td>2174.0</td>\n",
       "      <td>0.0</td>\n",
       "      <td>40.0</td>\n",
       "      <td>United-States</td>\n",
       "      <td>&lt;=50K</td>\n",
       "    </tr>\n",
       "  </tbody>\n",
       "</table>\n",
       "</div>"
      ],
      "text/plain": [
       "   age   workclass education_level  education-num  marital-status  \\\n",
       "0   39   State-gov       Bachelors           13.0   Never-married   \n",
       "\n",
       "      occupation    relationship    race    sex  capital-gain  capital-loss  \\\n",
       "0   Adm-clerical   Not-in-family   White   Male        2174.0           0.0   \n",
       "\n",
       "   hours-per-week  native-country income  \n",
       "0            40.0   United-States  <=50K  "
      ]
     },
     "metadata": {},
     "output_type": "display_data"
    }
   ],
   "source": [
    "# Load the Census dataset\n",
    "data = pd.read_csv(\"./census.csv\")\n",
    "\n",
    "# Success - Display the first record\n",
    "display(data.head(n=1))"
   ]
  },
  {
   "cell_type": "markdown",
   "metadata": {},
   "source": [
    "### Implementation: Data Exploration\n",
    "A cursory investigation of the dataset will determine how many individuals fit into either group, and will tell us about the percentage of these individuals making more than \\$50,000. In the code cell below, you will need to compute the following:\n",
    "- The total number of records, `'n_records'`\n",
    "- The number of individuals making more than \\$50,000 annually, `'n_greater_50k'`.\n",
    "- The number of individuals making at most \\$50,000 annually, `'n_at_most_50k'`.\n",
    "- The percentage of individuals making more than \\$50,000 annually, `'greater_percent'`.\n",
    "\n",
    "**Hint:** You may need to look at the table above to understand how the `'income'` entries are formatted. "
   ]
  },
  {
   "cell_type": "code",
   "execution_count": 97,
   "metadata": {
    "collapsed": false
   },
   "outputs": [
    {
     "data": {
      "text/plain": [
       "45222"
      ]
     },
     "execution_count": 97,
     "metadata": {},
     "output_type": "execute_result"
    }
   ],
   "source": [
    "# total number of rows\n",
    "\n",
    "data.shape[0]"
   ]
  },
  {
   "cell_type": "code",
   "execution_count": 88,
   "metadata": {
    "collapsed": false
   },
   "outputs": [
    {
     "data": {
      "text/plain": [
       "<=50K    34014\n",
       ">50K     11208\n",
       "Name: income, dtype: int64"
      ]
     },
     "execution_count": 88,
     "metadata": {},
     "output_type": "execute_result"
    }
   ],
   "source": [
    "# what are the levels of income variable? R equivalent of table() function\n",
    "\n",
    "data['income'].value_counts()"
   ]
  },
  {
   "cell_type": "code",
   "execution_count": 89,
   "metadata": {
    "collapsed": false
   },
   "outputs": [
    {
     "name": "stdout",
     "output_type": "stream",
     "text": [
      "Total number of records: 45222\n",
      "Individuals making more than $50,000: 11208\n",
      "Individuals making at most $50,000: 34014\n",
      "Percentage of individuals making more than $50,000: 24.78%\n"
     ]
    }
   ],
   "source": [
    "# TODO: Total number of records\n",
    "n_records = data.shape[0]\n",
    "\n",
    "# TODO: Number of records where individual's income is more than $50,000\n",
    "n_greater_50k = data['income'].value_counts()[1]\n",
    "\n",
    "# TODO: Number of records where individual's income is at most $50,000\n",
    "n_at_most_50k = data['income'].value_counts()[0]\n",
    "\n",
    "# TODO: Percentage of individuals whose income is more than $50,000\n",
    "greater_percent = (n_greater_50k / n_records)*100\n",
    "\n",
    "# Print the results\n",
    "print \"Total number of records: {}\".format(n_records)\n",
    "print \"Individuals making more than $50,000: {}\".format(n_greater_50k)\n",
    "print \"Individuals making at most $50,000: {}\".format(n_at_most_50k)\n",
    "print \"Percentage of individuals making more than $50,000: {:.2f}%\".format(greater_percent)"
   ]
  },
  {
   "cell_type": "code",
   "execution_count": 99,
   "metadata": {
    "collapsed": true
   },
   "outputs": [],
   "source": [
    "### Alternative Solution:\n",
    "\n",
    "n_greater_50k = len(data[data['income'] == '>50K'])\n",
    "n_at_most_50k = len(data[data['income'] == '<=50K'])"
   ]
  },
  {
   "cell_type": "markdown",
   "metadata": {},
   "source": [
    "----\n",
    "## Preparing the Data\n",
    "Before data can be used as input for machine learning algorithms, it often must be cleaned, formatted, and restructured — this is typically known as **preprocessing**. Fortunately, for this dataset, there are no invalid or missing entries we must deal with, however, there are some qualities about certain features that must be adjusted. This preprocessing can help tremendously with the outcome and predictive power of nearly all learning algorithms."
   ]
  },
  {
   "cell_type": "markdown",
   "metadata": {},
   "source": [
    "### Transforming Skewed Continuous Features\n",
    "A dataset may sometimes contain at least one feature whose values tend to lie near a single number, but will also have a non-trivial number of vastly larger or smaller values than that single number.  Algorithms can be sensitive to such distributions of values and can underperform if the range is not properly normalized. With the census dataset two features fit this description: '`capital-gain'` and `'capital-loss'`. \n",
    "\n",
    "Run the code cell below to plot a histogram of these two features. Note the range of the values present and how they are distributed."
   ]
  },
  {
   "cell_type": "code",
   "execution_count": 90,
   "metadata": {
    "collapsed": false
   },
   "outputs": [
    {
     "data": {
      "image/png": "[encoded data removed]",
      "text/plain": [
       "<matplotlib.figure.Figure at 0x11bc34d10>"
      ]
     },
     "metadata": {},
     "output_type": "display_data"
    }
   ],
   "source": [
    "# Split the data into features and target label\n",
    "income_raw = data['income']\n",
    "features_raw = data.drop('income', axis = 1)\n",
    "\n",
    "# Visualize skewed continuous features of original data\n",
    "vs.distribution(data)"
   ]
  },
  {
   "cell_type": "markdown",
   "metadata": {},
   "source": [
    "For highly-skewed feature distributions such as `'capital-gain'` and `'capital-loss'`, it is common practice to apply a <a href=\"https://en.wikipedia.org/wiki/Data_transformation_(statistics)\">logarithmic transformation</a> on the data so that the very large and very small values do not negatively affect the performance of a learning algorithm. Using a logarithmic transformation significantly reduces the range of values caused by outliers. Care must be taken when applying this transformation however: The logarithm of `0` is undefined, so we must translate the values by a small amount above `0` to apply the the logarithm successfully.\n",
    "\n",
    "Run the code cell below to perform a transformation on the data and visualize the results. Again, note the range of values and how they are distributed. "
   ]
  },
  {
   "cell_type": "code",
   "execution_count": 91,
   "metadata": {
    "collapsed": false
   },
   "outputs": [
    {
     "data": {
      "image/png": "[encoded data removed]",
      "text/plain": [
       "<matplotlib.figure.Figure at 0x10fbaced0>"
      ]
     },
     "metadata": {},
     "output_type": "display_data"
    }
   ],
   "source": [
    "# Log-transform the skewed features\n",
    "skewed = ['capital-gain', 'capital-loss']\n",
    "features_raw[skewed] = data[skewed].apply(lambda x: np.log(x + 1))\n",
    "\n",
    "# Visualize the new log distributions\n",
    "vs.distribution(features_raw, transformed = True)"
   ]
  },
  {
   "cell_type": "markdown",
   "metadata": {},
   "source": [
    "### Normalizing Numerical Features\n",
    "In addition to performing transformations on features that are highly skewed, it is often good practice to perform some type of scaling on numerical features. Applying a scaling to the data does not change the shape of each feature's distribution (such as `'capital-gain'` or `'capital-loss'` above); however, normalization ensures that each feature is treated equally when applying supervised learners. Note that once scaling is applied, observing the data in its raw form will no longer have the same original meaning, as exampled below.\n",
    "\n",
    "Run the code cell below to normalize each numerical feature. We will use [`sklearn.preprocessing.MinMaxScaler`](http://scikit-learn.org/stable/modules/generated/sklearn.preprocessing.MinMaxScaler.html) for this."
   ]
  },
  {
   "cell_type": "code",
   "execution_count": 18,
   "metadata": {
    "collapsed": false
   },
   "outputs": [
    {
     "data": {
      "text/html": [
       "<div>\n",
       "<table border=\"1\" class=\"dataframe\">\n",
       "  <thead>\n",
       "    <tr style=\"text-align: right;\">\n",
       "      <th></th>\n",
       "      <th>age</th>\n",
       "      <th>workclass</th>\n",
       "      <th>education_level</th>\n",
       "      <th>education-num</th>\n",
       "      <th>marital-status</th>\n",
       "      <th>occupation</th>\n",
       "      <th>relationship</th>\n",
       "      <th>race</th>\n",
       "      <th>sex</th>\n",
       "      <th>capital-gain</th>\n",
       "      <th>capital-loss</th>\n",
       "      <th>hours-per-week</th>\n",
       "      <th>native-country</th>\n",
       "    </tr>\n",
       "  </thead>\n",
       "  <tbody>\n",
       "    <tr>\n",
       "      <th>0</th>\n",
       "      <td>0.30137</td>\n",
       "      <td>State-gov</td>\n",
       "      <td>Bachelors</td>\n",
       "      <td>0.8</td>\n",
       "      <td>Never-married</td>\n",
       "      <td>Adm-clerical</td>\n",
       "      <td>Not-in-family</td>\n",
       "      <td>White</td>\n",
       "      <td>Male</td>\n",
       "      <td>0.02174</td>\n",
       "      <td>0.0</td>\n",
       "      <td>0.397959</td>\n",
       "      <td>United-States</td>\n",
       "    </tr>\n",
       "  </tbody>\n",
       "</table>\n",
       "</div>"
      ],
      "text/plain": [
       "       age   workclass education_level  education-num  marital-status  \\\n",
       "0  0.30137   State-gov       Bachelors            0.8   Never-married   \n",
       "\n",
       "      occupation    relationship    race    sex  capital-gain  capital-loss  \\\n",
       "0   Adm-clerical   Not-in-family   White   Male       0.02174           0.0   \n",
       "\n",
       "   hours-per-week  native-country  \n",
       "0        0.397959   United-States  "
      ]
     },
     "metadata": {},
     "output_type": "display_data"
    }
   ],
   "source": [
    "# Import sklearn.preprocessing.StandardScaler\n",
    "from sklearn.preprocessing import MinMaxScaler\n",
    "\n",
    "# Initialize a scaler, then apply it to the features\n",
    "scaler = MinMaxScaler()\n",
    "numerical = ['age', 'education-num', 'capital-gain', 'capital-loss', 'hours-per-week']\n",
    "features_raw[numerical] = scaler.fit_transform(data[numerical])\n",
    "\n",
    "# Show an example of a record with scaling applied\n",
    "display(features_raw.head(n = 1))"
   ]
  },
  {
   "cell_type": "markdown",
   "metadata": {},
   "source": [
    "### Implementation: Data Preprocessing\n",
    "\n",
    "From the table in **Exploring the Data** above, we can see there are several features for each record that are non-numeric. Typically, learning algorithms expect input to be numeric, which requires that non-numeric features (called *categorical variables*) be converted. One popular way to convert categorical variables is by using the **one-hot encoding** scheme. One-hot encoding creates a _\"dummy\"_ variable for each possible category of each non-numeric feature. For example, assume `someFeature` has three possible entries: `A`, `B`, or `C`. We then encode this feature into `someFeature_A`, `someFeature_B` and `someFeature_C`.\n",
    "\n",
    "|   | someFeature |                    | someFeature_A | someFeature_B | someFeature_C |\n",
    "| :-: | :-: |                            | :-: | :-: | :-: |\n",
    "| 0 |  B  |  | 0 | 1 | 0 |\n",
    "| 1 |  C  | ----> one-hot encode ----> | 0 | 0 | 1 |\n",
    "| 2 |  A  |  | 1 | 0 | 0 |\n",
    "\n",
    "Additionally, as with the non-numeric features, we need to convert the non-numeric target label, `'income'` to numerical values for the learning algorithm to work. Since there are only two possible categories for this label (\"<=50K\" and \">50K\"), we can avoid using one-hot encoding and simply encode these two categories as `0` and `1`, respectively. In code cell below, you will need to implement the following:\n",
    " - Use [`pandas.get_dummies()`](http://pandas.pydata.org/pandas-docs/stable/generated/pandas.get_dummies.html?highlight=get_dummies#pandas.get_dummies) to perform one-hot encoding on the `'features_raw'` data.\n",
    " - Convert the target label `'income_raw'` to numerical entries.\n",
    "   - Set records with \"<=50K\" to `0` and records with \">50K\" to `1`."
   ]
  },
  {
   "cell_type": "code",
   "execution_count": 22,
   "metadata": {
    "collapsed": false
   },
   "outputs": [
    {
     "data": {
      "text/html": [
       "<div>\n",
       "<table border=\"1\" class=\"dataframe\">\n",
       "  <thead>\n",
       "    <tr style=\"text-align: right;\">\n",
       "      <th></th>\n",
       "      <th>age</th>\n",
       "      <th>workclass</th>\n",
       "      <th>education_level</th>\n",
       "      <th>education-num</th>\n",
       "      <th>marital-status</th>\n",
       "      <th>occupation</th>\n",
       "      <th>relationship</th>\n",
       "      <th>race</th>\n",
       "      <th>sex</th>\n",
       "      <th>capital-gain</th>\n",
       "      <th>capital-loss</th>\n",
       "      <th>hours-per-week</th>\n",
       "      <th>native-country</th>\n",
       "    </tr>\n",
       "  </thead>\n",
       "  <tbody>\n",
       "    <tr>\n",
       "      <th>0</th>\n",
       "      <td>0.301370</td>\n",
       "      <td>State-gov</td>\n",
       "      <td>Bachelors</td>\n",
       "      <td>0.800000</td>\n",
       "      <td>Never-married</td>\n",
       "      <td>Adm-clerical</td>\n",
       "      <td>Not-in-family</td>\n",
       "      <td>White</td>\n",
       "      <td>Male</td>\n",
       "      <td>0.02174</td>\n",
       "      <td>0.0</td>\n",
       "      <td>0.397959</td>\n",
       "      <td>United-States</td>\n",
       "    </tr>\n",
       "    <tr>\n",
       "      <th>1</th>\n",
       "      <td>0.452055</td>\n",
       "      <td>Self-emp-not-inc</td>\n",
       "      <td>Bachelors</td>\n",
       "      <td>0.800000</td>\n",
       "      <td>Married-civ-spouse</td>\n",
       "      <td>Exec-managerial</td>\n",
       "      <td>Husband</td>\n",
       "      <td>White</td>\n",
       "      <td>Male</td>\n",
       "      <td>0.00000</td>\n",
       "      <td>0.0</td>\n",
       "      <td>0.122449</td>\n",
       "      <td>United-States</td>\n",
       "    </tr>\n",
       "    <tr>\n",
       "      <th>2</th>\n",
       "      <td>0.287671</td>\n",
       "      <td>Private</td>\n",
       "      <td>HS-grad</td>\n",
       "      <td>0.533333</td>\n",
       "      <td>Divorced</td>\n",
       "      <td>Handlers-cleaners</td>\n",
       "      <td>Not-in-family</td>\n",
       "      <td>White</td>\n",
       "      <td>Male</td>\n",
       "      <td>0.00000</td>\n",
       "      <td>0.0</td>\n",
       "      <td>0.397959</td>\n",
       "      <td>United-States</td>\n",
       "    </tr>\n",
       "    <tr>\n",
       "      <th>3</th>\n",
       "      <td>0.493151</td>\n",
       "      <td>Private</td>\n",
       "      <td>11th</td>\n",
       "      <td>0.400000</td>\n",
       "      <td>Married-civ-spouse</td>\n",
       "      <td>Handlers-cleaners</td>\n",
       "      <td>Husband</td>\n",
       "      <td>Black</td>\n",
       "      <td>Male</td>\n",
       "      <td>0.00000</td>\n",
       "      <td>0.0</td>\n",
       "      <td>0.397959</td>\n",
       "      <td>United-States</td>\n",
       "    </tr>\n",
       "    <tr>\n",
       "      <th>4</th>\n",
       "      <td>0.150685</td>\n",
       "      <td>Private</td>\n",
       "      <td>Bachelors</td>\n",
       "      <td>0.800000</td>\n",
       "      <td>Married-civ-spouse</td>\n",
       "      <td>Prof-specialty</td>\n",
       "      <td>Wife</td>\n",
       "      <td>Black</td>\n",
       "      <td>Female</td>\n",
       "      <td>0.00000</td>\n",
       "      <td>0.0</td>\n",
       "      <td>0.397959</td>\n",
       "      <td>Cuba</td>\n",
       "    </tr>\n",
       "  </tbody>\n",
       "</table>\n",
       "</div>"
      ],
      "text/plain": [
       "        age          workclass education_level  education-num  \\\n",
       "0  0.301370          State-gov       Bachelors       0.800000   \n",
       "1  0.452055   Self-emp-not-inc       Bachelors       0.800000   \n",
       "2  0.287671            Private         HS-grad       0.533333   \n",
       "3  0.493151            Private            11th       0.400000   \n",
       "4  0.150685            Private       Bachelors       0.800000   \n",
       "\n",
       "        marital-status          occupation    relationship    race      sex  \\\n",
       "0        Never-married        Adm-clerical   Not-in-family   White     Male   \n",
       "1   Married-civ-spouse     Exec-managerial         Husband   White     Male   \n",
       "2             Divorced   Handlers-cleaners   Not-in-family   White     Male   \n",
       "3   Married-civ-spouse   Handlers-cleaners         Husband   Black     Male   \n",
       "4   Married-civ-spouse      Prof-specialty            Wife   Black   Female   \n",
       "\n",
       "   capital-gain  capital-loss  hours-per-week  native-country  \n",
       "0       0.02174           0.0        0.397959   United-States  \n",
       "1       0.00000           0.0        0.122449   United-States  \n",
       "2       0.00000           0.0        0.397959   United-States  \n",
       "3       0.00000           0.0        0.397959   United-States  \n",
       "4       0.00000           0.0        0.397959            Cuba  "
      ]
     },
     "execution_count": 22,
     "metadata": {},
     "output_type": "execute_result"
    }
   ],
   "source": [
    "features_raw.head()"
   ]
  },
  {
   "cell_type": "code",
   "execution_count": 28,
   "metadata": {
    "collapsed": false,
    "scrolled": true
   },
   "outputs": [
    {
     "name": "stdout",
     "output_type": "stream",
     "text": [
      "103 total features after one-hot encoding.\n",
      "['age', 'education-num', 'capital-gain', 'capital-loss', 'hours-per-week', 'workclass_ Federal-gov', 'workclass_ Local-gov', 'workclass_ Private', 'workclass_ Self-emp-inc', 'workclass_ Self-emp-not-inc', 'workclass_ State-gov', 'workclass_ Without-pay', 'education_level_ 10th', 'education_level_ 11th', 'education_level_ 12th', 'education_level_ 1st-4th', 'education_level_ 5th-6th', 'education_level_ 7th-8th', 'education_level_ 9th', 'education_level_ Assoc-acdm', 'education_level_ Assoc-voc', 'education_level_ Bachelors', 'education_level_ Doctorate', 'education_level_ HS-grad', 'education_level_ Masters', 'education_level_ Preschool', 'education_level_ Prof-school', 'education_level_ Some-college', 'marital-status_ Divorced', 'marital-status_ Married-AF-spouse', 'marital-status_ Married-civ-spouse', 'marital-status_ Married-spouse-absent', 'marital-status_ Never-married', 'marital-status_ Separated', 'marital-status_ Widowed', 'occupation_ Adm-clerical', 'occupation_ Armed-Forces', 'occupation_ Craft-repair', 'occupation_ Exec-managerial', 'occupation_ Farming-fishing', 'occupation_ Handlers-cleaners', 'occupation_ Machine-op-inspct', 'occupation_ Other-service', 'occupation_ Priv-house-serv', 'occupation_ Prof-specialty', 'occupation_ Protective-serv', 'occupation_ Sales', 'occupation_ Tech-support', 'occupation_ Transport-moving', 'relationship_ Husband', 'relationship_ Not-in-family', 'relationship_ Other-relative', 'relationship_ Own-child', 'relationship_ Unmarried', 'relationship_ Wife', 'race_ Amer-Indian-Eskimo', 'race_ Asian-Pac-Islander', 'race_ Black', 'race_ Other', 'race_ White', 'sex_ Female', 'sex_ Male', 'native-country_ Cambodia', 'native-country_ Canada', 'native-country_ China', 'native-country_ Columbia', 'native-country_ Cuba', 'native-country_ Dominican-Republic', 'native-country_ Ecuador', 'native-country_ El-Salvador', 'native-country_ England', 'native-country_ France', 'native-country_ Germany', 'native-country_ Greece', 'native-country_ Guatemala', 'native-country_ Haiti', 'native-country_ Holand-Netherlands', 'native-country_ Honduras', 'native-country_ Hong', 'native-country_ Hungary', 'native-country_ India', 'native-country_ Iran', 'native-country_ Ireland', 'native-country_ Italy', 'native-country_ Jamaica', 'native-country_ Japan', 'native-country_ Laos', 'native-country_ Mexico', 'native-country_ Nicaragua', 'native-country_ Outlying-US(Guam-USVI-etc)', 'native-country_ Peru', 'native-country_ Philippines', 'native-country_ Poland', 'native-country_ Portugal', 'native-country_ Puerto-Rico', 'native-country_ Scotland', 'native-country_ South', 'native-country_ Taiwan', 'native-country_ Thailand', 'native-country_ Trinadad&Tobago', 'native-country_ United-States', 'native-country_ Vietnam', 'native-country_ Yugoslavia']\n"
     ]
    }
   ],
   "source": [
    "# TODO: One-hot encode the 'features_raw' data using pandas.get_dummies()\n",
    "features = pd.get_dummies(features_raw)\n",
    "\n",
    "# TODO: Encode the 'income_raw' data to numerical values\n",
    "income = (income_raw=='>50K').astype(int)\n",
    "\n",
    "# Print the number of features after one-hot encoding\n",
    "encoded = list(features.columns)\n",
    "print \"{} total features after one-hot encoding.\".format(len(encoded))\n",
    "\n",
    "# Uncomment the following line to see the encoded feature names\n",
    "print encoded"
   ]
  },
  {
   "cell_type": "code",
   "execution_count": 101,
   "metadata": {
    "collapsed": false
   },
   "outputs": [
    {
     "data": {
      "text/plain": [
       "0    0\n",
       "1    0\n",
       "2    0\n",
       "3    0\n",
       "4    0\n",
       "Name: income, dtype: int64"
      ]
     },
     "execution_count": 101,
     "metadata": {},
     "output_type": "execute_result"
    }
   ],
   "source": [
    "### Alternative Solution: One-Hot-Encoding\n",
    "\n",
    "income = income_raw.apply(lambda x: 0 if x == '<=50K' else 1)\n",
    "\n",
    "income.head()"
   ]
  },
  {
   "cell_type": "markdown",
   "metadata": {},
   "source": [
    "### Shuffle and Split Data\n",
    "Now all _categorical variables_ have been converted into numerical features, and all numerical features have been normalized. As always, we will now split the data (both features and their labels) into training and test sets. 80% of the data will be used for training and 20% for testing.\n",
    "\n",
    "Run the code cell below to perform this split."
   ]
  },
  {
   "cell_type": "code",
   "execution_count": 29,
   "metadata": {
    "collapsed": false
   },
   "outputs": [
    {
     "name": "stdout",
     "output_type": "stream",
     "text": [
      "Training set has 36177 samples.\n",
      "Testing set has 9045 samples.\n"
     ]
    }
   ],
   "source": [
    "# Import train_test_split\n",
    "from sklearn.cross_validation import train_test_split\n",
    "\n",
    "# Split the 'features' and 'income' data into training and testing sets\n",
    "X_train, X_test, y_train, y_test = train_test_split(features, income, test_size = 0.2, random_state = 0)\n",
    "\n",
    "# Show the results of the split\n",
    "print \"Training set has {} samples.\".format(X_train.shape[0])\n",
    "print \"Testing set has {} samples.\".format(X_test.shape[0])"
   ]
  },
  {
   "cell_type": "code",
   "execution_count": 40,
   "metadata": {
    "collapsed": false
   },
   "outputs": [
    {
     "data": {
      "text/plain": [
       "41387    0\n",
       "35278    0\n",
       "26950    0\n",
       "29133    0\n",
       "41794    0\n",
       "Name: income, dtype: int64"
      ]
     },
     "execution_count": 40,
     "metadata": {},
     "output_type": "execute_result"
    }
   ],
   "source": [
    "y_test.head()"
   ]
  },
  {
   "cell_type": "markdown",
   "metadata": {},
   "source": [
    "----\n",
    "## Evaluating Model Performance\n",
    "In this section, we will investigate four different algorithms, and determine which is best at modeling the data. Three of these algorithms will be supervised learners of your choice, and the fourth algorithm is known as a *naive predictor*."
   ]
  },
  {
   "cell_type": "markdown",
   "metadata": {},
   "source": [
    "### Metrics and the Naive Predictor\n",
    "*CharityML*, equipped with their research, knows individuals that make more than \\$50,000 are most likely to donate to their charity. Because of this, *CharityML* is particularly interested in predicting who makes more than \\$50,000 accurately. It would seem that using **accuracy** as a metric for evaluating a particular model's performace would be appropriate. Additionally, identifying someone that *does not* make more than \\$50,000 as someone who does would be detrimental to *CharityML*, since they are looking to find individuals willing to donate. Therefore, a model's ability to precisely predict those that make more than \\$50,000 is *more important* than the model's ability to **recall** those individuals. We can use **F-beta score** as a metric that considers both precision and recall:\n",
    "\n",
    "$$ F_{\\beta} = (1 + \\beta^2) \\cdot \\frac{precision \\cdot recall}{\\left( \\beta^2 \\cdot precision \\right) + recall} $$\n",
    "\n",
    "In particular, when $\\beta = 0.5$, more emphasis is placed on precision. This is called the **F$_{0.5}$ score** (or F-score for simplicity).\n",
    "\n",
    "Looking at the distribution of classes (those who make at most \\$50,000, and those who make more), it's clear most individuals do not make more than \\$50,000. This can greatly affect **accuracy**, since we could simply say *\"this person does not make more than \\$50,000\"* and generally be right, without ever looking at the data! Making such a statement would be called **naive**, since we have not considered any information to substantiate the claim. It is always important to consider the *naive prediction* for your data, to help establish a benchmark for whether a model is performing well. That been said, using that prediction would be pointless: If we predicted all people made less than \\$50,000, *CharityML* would identify no one as donors. "
   ]
  },
  {
   "cell_type": "markdown",
   "metadata": {},
   "source": [
    "### Question 1 - Naive Predictor Performace\n",
    "*If we chose a model that always predicted an individual made more than \\$50,000, what would that model's accuracy and F-score be on this dataset?*  \n",
    "**Note:** You must use the code cell below and assign your results to `'accuracy'` and `'fscore'` to be used later."
   ]
  },
  {
   "cell_type": "code",
   "execution_count": 31,
   "metadata": {
    "collapsed": false
   },
   "outputs": [
    {
     "name": "stdout",
     "output_type": "stream",
     "text": [
      "Naive Predictor: [Accuracy score: 0.2478, F-score: 0.2917]\n"
     ]
    }
   ],
   "source": [
    "# TODO: Calculate accuracy\n",
    "accuracy = n_greater_50k / n_records\n",
    "\n",
    "true_pos = n_greater_50k\n",
    "false_pos = n_records - n_greater_50k\n",
    "false_neg = 0\n",
    "\n",
    "def f_score(true_pos, false_pos, false_neg, beta):\n",
    "\n",
    "    precision = true_pos / (true_pos + false_pos)\n",
    "    recall = true_pos / (true_pos + false_neg)\n",
    "    \n",
    "    fscore = (1 + beta**2)*(precision * recall)/(((beta**2)*precision) + recall)\n",
    "    \n",
    "    return fscore\n",
    "\n",
    "# TODO: Calculate F-score using the formula above for beta = 0.5\n",
    "fscore = f_score(true_pos, false_pos, false_neg, 0.5)\n",
    "\n",
    "# Print the results \n",
    "print \"Naive Predictor: [Accuracy score: {:.4f}, F-score: {:.4f}]\".format(accuracy, fscore)"
   ]
  },
  {
   "cell_type": "markdown",
   "metadata": {},
   "source": [
    "###  Supervised Learning Models\n",
    "**The following supervised learning models are currently available in** [`scikit-learn`](http://scikit-learn.org/stable/supervised_learning.html) **that you may choose from:**\n",
    "- Gaussian Naive Bayes (GaussianNB)\n",
    "- Decision Trees\n",
    "- Ensemble Methods (Bagging, AdaBoost, Random Forest, Gradient Boosting)\n",
    "- K-Nearest Neighbors (KNeighbors)\n",
    "- Stochastic Gradient Descent Classifier (SGDC)\n",
    "- Support Vector Machines (SVM)\n",
    "- Logistic Regression"
   ]
  },
  {
   "cell_type": "markdown",
   "metadata": {},
   "source": [
    "### Question 2 - Model Application\n",
    "List three of the supervised learning models above that are appropriate for this problem that you will test on the census data. For each model chosen\n",
    "- *Describe one real-world application in industry where the model can be applied.* (You may need to do research for this — give references!)\n",
    "- *What are the strengths of the model; when does it perform well?*\n",
    "- *What are the weaknesses of the model; when does it perform poorly?*\n",
    "- *What makes this model a good candidate for the problem, given what you know about the data?*"
   ]
  },
  {
   "cell_type": "markdown",
   "metadata": {},
   "source": [
    "**Answer: **\n",
    "\n",
    "I chose **Logistic Regression, SVM and Stochastic Gradient Descent (Sigrid) **.\n",
    "\n",
    "<br>\n",
    "\n",
    "**1. Logistic Regression: **\n",
    "\n",
    "1) Describe one real-world application in industry where the model can be applied. *(You may need to do a small bit of research for this — give references!)* \n",
    "\n",
    "One of the most ubiquitous and cannonical usage of logistic regression in the industry is Click Through Rate (CTR) Prediction. *(See one good example [here](https://turi.com/learn/gallery/notebooks/click_through_rate_prediction_intro.html))* Logistic Regression makes a great candidate for this use case due to its speed and robustness, which make it easy to implement in the system with a fairly decent accuracy. Also, one of the great merits of Logistic Regression is that its output is interpretable similar to linear regression. Interpretability isn't well covered objective in Machine Learning education, but it is really important in the industry. \n",
    "\n",
    "2) What are the strengths of the model; when does it perform well? \n",
    "\n",
    "Inherently, logistic regression is a linear classifier, it can't be used to fit data with non-linear relationship, where logistic regression essentially fit a straight line through the data. \n",
    "\n",
    "- Fast training time\n",
    "- Easily interpretable\n",
    "- Less prone to overfitting\n",
    "- Perform well in binary classification\n",
    "- Great for use with probabilities, since base on sigmoid function. \n",
    "\n",
    "3) What are the weaknesses of the model; when does it perform poorly?\n",
    "\n",
    "- Poor performance in more complex relationship\n",
    "- Essentially a binary classifier\n",
    "- Hard to hack for multi-class classification\n",
    "- have to pick a cut-off value (threshold), which can sometimes be a strength, but I sometime feel it's almost a weakness in deployment (had to decide that on the fly for different situations)\n",
    "\n",
    "4) What makes this model a good candidate for the problem, given what you know about the data?\n",
    "\n",
    "- data is fairly low dimensional, about 400 rowsa nd 30 features, a fast and naive learner like Logistic Regression will make a decent effort\n",
    "\n",
    "<br>\n",
    "\n",
    "**2. Support Vector Machine: **\n",
    "\n",
    "1) Describe one real-world application in industry where the model can be applied. *(You may need to do a small bit of research for this — give references!)* \n",
    "\n",
    "To be honest and from experience, I feel like SVM can be used in the most cases where Logistic Regression is deployed in the industry, which could be probably be summarized as a relatively less complex binary classification problem. \n",
    "\n",
    "2) What are the strengths of the model; when does it perform well? \n",
    "\n",
    "- SVM can model more complex, nonlinear relationships than the ones Logistic Regress can, due to SVM's great kernel trick. \n",
    "- Due to the fact that SVM maximize margin, SVM turned out to be more robust to noise. \n",
    "\n",
    "\n",
    "3) What are the weaknesses of the model; when does it perform poorly?\n",
    "\n",
    "- Modeling tuning is hard due to the choice of kernel function, training takes a longer time.\n",
    "- SVM is more \"black-box\" than logistic regression, the model is hard to explain and interprete. \n",
    "- Similar to Logistic Regression, SVM is inherently a binary classifier. \n",
    "- High dimensional large volumn of data, where class are not easily separatable. \n",
    "\n",
    "4) What makes this model a good candidate for the problem, given what you know about the data?\n",
    "\n",
    "SVM seems a reasonable step up from Logistic Regression considering our data is fairly small and low dimensional, so we can leverage the fact that SVM can handle more complex classification relationship, but won't suffer from trading off too much training time. \n",
    "\n",
    "<br>\n",
    "\n",
    "**3. Stochastic Gradient Descent **\n",
    "\n",
    "Stochastic Gradient Descent (or **Sigrid**) is a simple yet very efficient approach to discriminative learning of linear classifiers under convex loss functions such as (linear) Support Vector Machines and Logistic Regression. Since I chose both logistic regression and SVM as the other two learners, Sigrid makes a natural extension to those two alogrithm to see if the learning will benefit from a more efficient implementation. Specifically, I want to set up sigrid as a more efficient logistic regression (loss function = log and penalization = l2). \n",
    "\n",
    "1) Describe one real-world application in industry where the model can be applied. *(You may need to do a small bit of research for this — give references!)* \n",
    "\n",
    "To my best knowledge, sigrid is used in the advertising industry as an alternative to logistic regression that can handel large scale data. Here, large scale means both more observation and more features. In advertising industry, big ad tech company use sigrid to predict clicks or other binary variable on cookies or users level. \n",
    "\n",
    "2) What are the strengths of the model; when does it perform well? \n",
    "\n",
    "According to the [SKlearn documentation](http://scikit-learn.org/stable/modules/sgd.html), the advantage of sigrid is as follow: \n",
    "\n",
    "- Efficiency.\n",
    "- Ease of implementation (lots of opportunities for code tuning).\n",
    "\n",
    "3) What are the weaknesses of the model; when does it perform poorly?\n",
    "\n",
    "- More complicated for tuning, not as straightforward as logistic regression. SGD requires a number of hyperparameters such as the regularization parameter and the number of iterations.\n",
    "- SGD is sensitive to feature scaling.\n",
    "\n",
    "4) What makes this model a good candidate for the problem, given what you know about the data?\n",
    "\n",
    "Our data is fairly large (definitely not large in the real life practice, but since I also did the student intervention project, makes me feel like this data is a definitely step up from there), which makes the efficiency of sigrid an interesting property to experiment on. Also, after our one hot encoding and feature scaling, the feature space of our data became rather sparse, another reason to test if sigrid can be ultilized as a more efficient implementation of logistic regression. "
   ]
  },
  {
   "cell_type": "markdown",
   "metadata": {},
   "source": [
    "### Implementation - Creating a Training and Predicting Pipeline\n",
    "To properly evaluate the performance of each model you've chosen, it's important that you create a training and predicting pipeline that allows you to quickly and effectively train models using various sizes of training data and perform predictions on the testing data. Your implementation here will be used in the following section.\n",
    "In the code block below, you will need to implement the following:\n",
    " - Import `fbeta_score` and `accuracy_score` from [`sklearn.metrics`](http://scikit-learn.org/stable/modules/classes.html#sklearn-metrics-metrics).\n",
    " - Fit the learner to the sampled training data and record the training time.\n",
    " - Perform predictions on the test data `X_test`, and also on the first 300 training points `X_train[:300]`.\n",
    "   - Record the total prediction time.\n",
    " - Calculate the accuracy score for both the training subset and testing set.\n",
    " - Calculate the F-score for both the training subset and testing set.\n",
    "   - Make sure that you set the `beta` parameter!"
   ]
  },
  {
   "cell_type": "code",
   "execution_count": 102,
   "metadata": {
    "collapsed": false
   },
   "outputs": [],
   "source": [
    "# TODO: Import two metrics from sklearn - fbeta_score and accuracy_score\n",
    "\n",
    "def train_predict(learner, sample_size, X_train, y_train, X_test, y_test): \n",
    "    '''\n",
    "    inputs:\n",
    "       - learner: the learning algorithm to be trained and predicted on\n",
    "       - sample_size: the size of samples (number) to be drawn from training set\n",
    "       - X_train: features training set\n",
    "       - y_train: income training set\n",
    "       - X_test: features testing set\n",
    "       - y_test: income testing set\n",
    "    '''\n",
    "    \n",
    "    results = {}\n",
    "    \n",
    "    # TODO: Fit the learner to the training data using slicing with 'sample_size'\n",
    "    start = time() # Get start time\n",
    "    learner = learner.fit(X_train[:sample_size], y_train[:sample_size])\n",
    "    end = time() # Get end time\n",
    "    \n",
    "    # TODO: Calculate the training time\n",
    "    results['train_time'] = end - start\n",
    "        \n",
    "    # TODO: Get the predictions on the test set,\n",
    "    #       then get predictions on the first 300 training samples\n",
    "    start = time() # Get start time\n",
    "    predictions_test = learner.predict(X_test)\n",
    "    predictions_train = learner.predict(X_train[:300])\n",
    "    end = time() # Get end time\n",
    "    \n",
    "    # TODO: Calculate the total prediction time\n",
    "    results['pred_time'] = end - start\n",
    "            \n",
    "    # TODO: Compute accuracy on the first 300 training samples\n",
    "    results['acc_train'] = accuracy_score(y_train[:300], predictions_train)\n",
    "    # results['acc_train'] = learner.score(predictions_train,y_train[:300])\n",
    "        \n",
    "    # TODO: Compute accuracy on test set\n",
    "    results['acc_test'] =  accuracy_score(y_test, predictions_test)\n",
    "    # results['acc_test'] = learner.score(predictions_test,y_test)    \n",
    "    \n",
    "    # TODO: Compute F-score on the the first 300 training samples\n",
    "    results['f_train'] = fbeta_score(y_train[:300], predictions_train, beta=0.5)\n",
    "        \n",
    "    # TODO: Compute F-score on the test set\n",
    "    results['f_test'] = fbeta_score(y_test, predictions_test, beta=0.5)\n",
    "       \n",
    "    # Success\n",
    "    print \"{} trained on {} samples.\".format(learner.__class__.__name__, sample_size)\n",
    "        \n",
    "    # Return the results\n",
    "    return results"
   ]
  },
  {
   "cell_type": "markdown",
   "metadata": {},
   "source": [
    "### Implementation: Initial Model Evaluation\n",
    "In the code cell, you will need to implement the following:\n",
    "- Import the three supervised learning models you've discussed in the previous section.\n",
    "- Initialize the three models and store them in `'clf_A'`, `'clf_B'`, and `'clf_C'`.\n",
    "  - Use a `'random_state'` for each model you use, if provided.\n",
    "  - **Note:** Use the default settings for each model — you will tune one specific model in a later section.\n",
    "- Calculate the number of records equal to 1%, 10%, and 100% of the training data.\n",
    "  - Store those values in `'samples_1'`, `'samples_10'`, and `'samples_100'` respectively.\n",
    "\n",
    "**Note:** Depending on which algorithms you chose, the following implementation may take some time to run!"
   ]
  },
  {
   "cell_type": "code",
   "execution_count": 103,
   "metadata": {
    "collapsed": false
   },
   "outputs": [
    {
     "name": "stdout",
     "output_type": "stream",
     "text": [
      "LogisticRegression trained on 361 samples.\n",
      "LogisticRegression trained on 3617 samples.\n",
      "LogisticRegression trained on 36177 samples.\n",
      "SVC trained on 361 samples.\n",
      "SVC trained on 3617 samples.\n",
      "SVC trained on 36177 samples.\n",
      "SGDClassifier trained on 361 samples.\n",
      "SGDClassifier trained on 3617 samples.\n",
      "SGDClassifier trained on 36177 samples.\n"
     ]
    },
    {
     "data": {
      "image/png": "[encoded data removed]",
      "text/plain": [
       "<matplotlib.figure.Figure at 0x1101deb90>"
      ]
     },
     "metadata": {},
     "output_type": "display_data"
    }
   ],
   "source": [
    "# TODO: Import the three supervised learning models from sklearn\n",
    "\n",
    "# TODO: Initialize the three models\n",
    "clf_A = LogisticRegression(random_state=12345)\n",
    "clf_B = SVC(random_state=12345)\n",
    "# clf_C = RandomForestClassifier(random_state=12345)\n",
    "clf_C = SGDClassifier(loss=\"log\", penalty=\"l1\", random_state=12345)\n",
    "\n",
    "# reason that I changed the default param in SGDC here is because I want to set it up as an efficient \n",
    "# logistic regression to compare rather than a upgraded SVM. \n",
    "\n",
    "# TODO: Calculate the number of samples for 1%, 10%, and 100% of the training data\n",
    "samples_1 = int(X_train.shape[0]*0.01)\n",
    "samples_10 = int(X_train.shape[0]*0.1)\n",
    "samples_100 = int(X_train.shape[0]*1)\n",
    "\n",
    "# Collect results on the learners\n",
    "results = {}\n",
    "for clf in [clf_A, clf_B, clf_C]:\n",
    "    clf_name = clf.__class__.__name__\n",
    "    results[clf_name] = {}\n",
    "    for i, samples in enumerate([samples_1, samples_10, samples_100]):\n",
    "        results[clf_name][i] = \\\n",
    "        train_predict(clf, samples, X_train, y_train, X_test, y_test)\n",
    "\n",
    "# Run metrics visualization for the three supervised learning models chosen\n",
    "vs.evaluate(results, accuracy, fscore)"
   ]
  },
  {
   "cell_type": "markdown",
   "metadata": {},
   "source": [
    "----\n",
    "## Improving Results\n",
    "In this final section, you will choose from the three supervised learning models the *best* model to use on the student data. You will then perform a **grid search optimization** for the model over the entire training set (`X_train` and `y_train`) by tuning at least one parameter to improve upon the untuned model's F-score. "
   ]
  },
  {
   "cell_type": "markdown",
   "metadata": {},
   "source": [
    "### Question 3 - Choosing the Best Model\n",
    "*Based on the evaluation you performed earlier, in one to two paragraphs, explain to *CharityML* which of the three models you believe to be most appropriate for the task of identifying individuals that make more than \\$50,000.*  \n",
    "**Hint:** Your answer should include discussion of the metrics, prediction/training time, and the algorithm's suitability for the data."
   ]
  },
  {
   "cell_type": "markdown",
   "metadata": {},
   "source": [
    "**Answer: **\n",
    "\n",
    "\n",
    "I will choose the logistic regression as my final best model because of its relative accuracy and efficiency. \n",
    "\n",
    "**1) Training Time:** \n",
    "\n",
    "Among three model, SVC takes the longest training and predicting time, to a point where they are on the completely different scale with the other two models' training and prediction time that the train/predict time of logistic regression and sigrid can't be easily observed from the first chart. \n",
    "\n",
    "Therefore, the SVC will prove to be a really inefficient alogrithm with expoential complexity **(O(N^3))**, we first eliminate it from our best model competition. Logistic Regression and sigrid has similar scale of training and prediction time, so we don't make decision between them based on that. \n",
    "\n",
    "**2) Accuracy Score & F Beta Score**\n",
    "\n",
    "In the final test sets of different sizes, logistic regression performed slightly better than sigrid. Also as the size of the prediction set increases, that slight advantage of logistic regression seems to increase. I believe this is due to sigrid is more prone to overfitting than logistic regression, which is evident from its almost perfect accuracy score on training set, which droped almost 0.2 in the test set. \n",
    "\n",
    "Those two consideration also holds true when comparing model performance via F Score, where logistic regression still prove to be advantageous through for different sizes of training set, and especially so when the training set size increase. "
   ]
  },
  {
   "cell_type": "markdown",
   "metadata": {},
   "source": [
    "[UPDATE]\n",
    "\n",
    "### Question 4 - Describing the Model in Layman's Terms\n",
    "\n",
    "*In one to two paragraphs, explain to *CharityML*, in layman's terms, how the final model chosen is supposed to work. Be sure that you are describing the major qualities of the model, such as how the model is trained and how the model makes a prediction. Avoid using advanced mathematical or technical jargon, such as describing equations or discussing the algorithm implementation.*"
   ]
  },
  {
   "cell_type": "markdown",
   "metadata": {},
   "source": [
    "**Answer: ** \n",
    "\n",
    "To explain Logistic Regression in more layman's terms, it's benefitial to revisit linear regression which basically describes the relationship between predictor and repsonse as a straight line. However, Logistic Regression describes that relationship in the shape of a natural logarithmic function *(see chart below)*. The differences and similarities between logistic regression and linear regression is due to the fact that logistic regression is a Generalized Linear Model (GLM), which is a generalized version of the linear regression where response variable is transformed through a link function. In case of logistic regression, the link function is logarithmic function.  \n",
    "\n",
    "![](./logistic_functions.png)\n",
    "\n",
    "The reason this shape/function is benefitial to use for binary classification is that the point will conveniently go to the top and bottom part of the curve, which happens to be restricted between 0.0 and 1.0, instead of spread around a straight line like linear regression. \n",
    "\n",
    "To understand more about logistic regression, I want to our donors data as an example and focus on two questions: \n",
    "\n",
    "**1) How does logistic regression takes our features and turn that into two class lables? **\n",
    "\n",
    "When all features are collected, logistic regression combines them linearly, by multiplying each feature with a coefficient to get its logged odds (logit), which will be restricted between 0 and 1, and thus desirable for our binary classification purposes. With the already labeled training set, logistic regression use the concepts of odds ratios to find the set of coefficients to generalize the relationship between logit and all the features. This is essentially how the logistic regression is trained. \n",
    "\n",
    "As displayed in the chart above, the points will be assign to the upper and lower portion of the curve so we can separate the points in a binary fashion. \n",
    "\n",
    "** 2) How to interpret the results of logistic regression? **\n",
    "\n",
    "Since logistic regression is one of the GLMs, the relative impact of the predictor can be determined by the coeffiecients, just like the linear regression. The only difference being the coefficients has to be taken exponential, inversely transformed according to the link function, to make sure the resulting odds ratios are better in intuively interpreting the impact features have on reponse probability, not just the logit. \n",
    "\n",
    "*The chart below is referenced from the [sk-learn documentation](http://scikit-learn.org/stable/auto_examples/linear_model/plot_logistic.html)*"
   ]
  },
  {
   "cell_type": "markdown",
   "metadata": {},
   "source": [
    "### Implementation: Model Tuning\n",
    "Fine tune the chosen model. Use grid search (`GridSearchCV`) with at least one important parameter tuned with at least 3 different values. You will need to use the entire training set for this. In the code cell below, you will need to implement the following:\n",
    "- Import [`sklearn.grid_search.GridSearchCV`](http://scikit-learn.org/0.17/modules/generated/sklearn.grid_search.GridSearchCV.html) and [`sklearn.metrics.make_scorer`](http://scikit-learn.org/stable/modules/generated/sklearn.metrics.make_scorer.html).\n",
    "- Initialize the classifier you've chosen and store it in `clf`.\n",
    " - Set a `random_state` if one is available to the same state you set before.\n",
    "- Create a dictionary of parameters you wish to tune for the chosen model.\n",
    " - Example: `parameters = {'parameter' : [list of values]}`.\n",
    " - **Note:** Avoid tuning the `max_features` parameter of your learner if that parameter is available!\n",
    "- Use `make_scorer` to create an `fbeta_score` scoring object (with $\\beta = 0.5$).\n",
    "- Perform grid search on the classifier `clf` using the `'scorer'`, and store it in `grid_obj`.\n",
    "- Fit the grid search object to the training data (`X_train`, `y_train`), and store it in `grid_fit`.\n",
    "\n",
    "**Note:** Depending on the algorithm chosen and the parameter list, the following implementation may take some time to run!"
   ]
  },
  {
   "cell_type": "markdown",
   "metadata": {},
   "source": [
    "### Implementation: Model Tuning\n",
    "Fine tune the chosen model. Use grid search (`GridSearchCV`) with at least one important parameter tuned with at least 3 different values. You will need to use the entire training set for this. In the code cell below, you will need to implement the following:\n",
    "- Import [`sklearn.grid_search.GridSearchCV`](http://scikit-learn.org/0.17/modules/generated/sklearn.grid_search.GridSearchCV.html) and [`sklearn.metrics.make_scorer`](http://scikit-learn.org/stable/modules/generated/sklearn.metrics.make_scorer.html).\n",
    "- Initialize the classifier you've chosen and store it in `clf`.\n",
    " - Set a `random_state` if one is available to the same state you set before.\n",
    "- Create a dictionary of parameters you wish to tune for the chosen model.\n",
    " - Example: `parameters = {'parameter' : [list of values]}`.\n",
    " - **Note:** Avoid tuning the `max_features` parameter of your learner if that parameter is available!\n",
    "- Use `make_scorer` to create an `fbeta_score` scoring object (with $\\beta = 0.5$).\n",
    "- Perform grid search on the classifier `clf` using the `'scorer'`, and store it in `grid_obj`.\n",
    "- Fit the grid search object to the training data (`X_train`, `y_train`), and store it in `grid_fit`.\n",
    "\n",
    "**Note:** Depending on the algorithm chosen and the parameter list, the following implementation may take some time to run!"
   ]
  },
  {
   "cell_type": "markdown",
   "metadata": {},
   "source": [
    "### Implementation: Model Tuning\n",
    "Fine tune the chosen model. Use grid search (`GridSearchCV`) with at least one important parameter tuned with at least 3 different values. You will need to use the entire training set for this. In the code cell below, you will need to implement the following:\n",
    "- Import [`sklearn.grid_search.GridSearchCV`](http://scikit-learn.org/0.17/modules/generated/sklearn.grid_search.GridSearchCV.html) and [`sklearn.metrics.make_scorer`](http://scikit-learn.org/stable/modules/generated/sklearn.metrics.make_scorer.html).\n",
    "- Initialize the classifier you've chosen and store it in `clf`.\n",
    " - Set a `random_state` if one is available to the same state you set before.\n",
    "- Create a dictionary of parameters you wish to tune for the chosen model.\n",
    " - Example: `parameters = {'parameter' : [list of values]}`.\n",
    " - **Note:** Avoid tuning the `max_features` parameter of your learner if that parameter is available!\n",
    "- Use `make_scorer` to create an `fbeta_score` scoring object (with $\\beta = 0.5$).\n",
    "- Perform grid search on the classifier `clf` using the `'scorer'`, and store it in `grid_obj`.\n",
    "- Fit the grid search object to the training data (`X_train`, `y_train`), and store it in `grid_fit`.\n",
    "\n",
    "**Note:** Depending on the algorithm chosen and the parameter list, the following implementation may take some time to run!"
   ]
  },
  {
   "cell_type": "markdown",
   "metadata": {},
   "source": [
    "### Implementation: Model Tuning\n",
    "Fine tune the chosen model. Use grid search (`GridSearchCV`) with at least one important parameter tuned with at least 3 different values. You will need to use the entire training set for this. In the code cell below, you will need to implement the following:\n",
    "- Import [`sklearn.grid_search.GridSearchCV`](http://scikit-learn.org/0.17/modules/generated/sklearn.grid_search.GridSearchCV.html) and [`sklearn.metrics.make_scorer`](http://scikit-learn.org/stable/modules/generated/sklearn.metrics.make_scorer.html).\n",
    "- Initialize the classifier you've chosen and store it in `clf`.\n",
    " - Set a `random_state` if one is available to the same state you set before.\n",
    "- Create a dictionary of parameters you wish to tune for the chosen model.\n",
    " - Example: `parameters = {'parameter' : [list of values]}`.\n",
    " - **Note:** Avoid tuning the `max_features` parameter of your learner if that parameter is available!\n",
    "- Use `make_scorer` to create an `fbeta_score` scoring object (with $\\beta = 0.5$).\n",
    "- Perform grid search on the classifier `clf` using the `'scorer'`, and store it in `grid_obj`.\n",
    "- Fit the grid search object to the training data (`X_train`, `y_train`), and store it in `grid_fit`.\n",
    "\n",
    "**Note:** Depending on the algorithm chosen and the parameter list, the following implementation may take some time to run!"
   ]
  },
  {
   "cell_type": "code",
   "execution_count": 70,
   "metadata": {
    "collapsed": false
   },
   "outputs": [
    {
     "name": "stdout",
     "output_type": "stream",
     "text": [
      "Fitting 3 folds for each of 64 candidates, totalling 192 fits\n"
     ]
    },
    {
     "name": "stderr",
     "output_type": "stream",
     "text": [
      "[Parallel(n_jobs=1)]: Done  49 tasks       | elapsed:    5.8s\n",
      "[Parallel(n_jobs=1)]: Done 192 out of 192 | elapsed:  2.2min finished\n"
     ]
    },
    {
     "name": "stdout",
     "output_type": "stream",
     "text": [
      "Unoptimized model\n",
      "------\n",
      "Accuracy score on testing data: 0.8483\n",
      "F-score on testing data: 0.6993\n",
      "\n",
      "Optimized Model\n",
      "------\n",
      "Final accuracy score on the testing data: 0.8491\n",
      "Final F-score on the testing data: 0.7025\n"
     ]
    }
   ],
   "source": [
    "# TODO: Import 'GridSearchCV', 'make_scorer', and any other necessary libraries\n",
    "\n",
    "# TODO: Initialize the classifier\n",
    "clf = LogisticRegression(random_state=12345)\n",
    "\n",
    "# TODO: Create the parameters list you wishkttgtukceeucctdbhhjluhvincvjruvv to tune\n",
    "parameters = {'C':(1e-3, 1e-2, 1e-1, 1, 1e1, 1e2, 1e3, 1e5), 'max_iter': (10, 100, 1000, 10000), 'penalty':('l1', 'l2')}\n",
    "\n",
    "# TODO: Make an fbeta_score scoring object\n",
    "scorer = make_scorer(fbeta_score, beta=0.5)\n",
    "\n",
    "# TODO: Perform grid search on the classifier uinfvjgcrhnbjtjbndgvrfhetvttfibdlsing 'scorer' as the scoring method\n",
    "grid_obj = GridSearchCV(clf, parameters, scoring=scorer, verbose=1)\n",
    "\n",
    "# TODO: Fit the grid search object to the training data and find the optimal parameters\n",
    "grid_fit = grid_obj.fit(X_train, y_train)\n",
    "\n",
    "# Get the estimator\n",
    "best_clf = grid_fit.best_estimator_\n",
    "\n",
    "# Make predictions using the unoptimized and model\n",
    "predictions = (clf.fit(X_train, y_train)).predict(X_test)\n",
    "best_predictions = best_clf.predict(X_test)\n",
    "\n",
    "# Report the before-and-afterscores\n",
    "print \"Unoptimized model\\n------\"\n",
    "print \"Accuracy score on testing data: {:.4f}\".format(accuracy_score(y_test, predictions))\n",
    "print \"F-score on testing data: {:.4f}\".format(fbeta_score(y_test, predictions, beta = 0.5))\n",
    "print \"\\nOptimized Model\\n------\"\n",
    "print \"Final accuracy score on the testing data: {:.4f}\".format(accuracy_score(y_test, best_predictions))\n",
    "print \"Final F-score on the testing data: {:.4f}\".format(fbeta_score(y_test, best_predictions, beta = 0.5))"
   ]
  },
  {
   "cell_type": "markdown",
   "metadata": {},
   "source": [
    "### Pro Section! \n",
    "\n",
    "**1. Checking Training Scores**"
   ]
  },
  {
   "cell_type": "code",
   "execution_count": 104,
   "metadata": {
    "collapsed": false
   },
   "outputs": [
    {
     "name": "stdout",
     "output_type": "stream",
     "text": [
      "Final accuracy score on the training data: 0.8479\n",
      "Final F-score on the training data: 0.7079\n"
     ]
    }
   ],
   "source": [
    "train_predictions = best_clf.predict(X_train)\n",
    "print \"Final accuracy score on the training data: {:.4f}\".format(accuracy_score(y_train, train_predictions))\n",
    "print \"Final F-score on the training data: {:.4f}\".format(fbeta_score(y_train, train_predictions, beta = 0.5))"
   ]
  },
  {
   "cell_type": "markdown",
   "metadata": {},
   "source": [
    "With an unbalanced dataset like this one, one idea to make sure the labels are evenly split between the validation sets a great idea to use sklearn's [StratifiedShuffleSplit](http://scikit-learn.org/stable/modules/generated/sklearn.model_selection.StratifiedShuffleSplit.html)"
   ]
  },
  {
   "cell_type": "markdown",
   "metadata": {},
   "source": [
    "eg:\n",
    "\n",
    "```python\n",
    "from sklearn.cross_validation import StratifiedShuffleSplit\n",
    "cv = StratifiedShuffleSplit(y_train, ...)\n",
    "grid_obj = GridSearchCV(clf, parameters, scoring=scorer, verbose=1, cv=cv)\n",
    "```"
   ]
  },
  {
   "cell_type": "markdown",
   "metadata": {},
   "source": [
    "### Question 5 - Final Model Evaluation\n",
    "_What is your optimized model's accuracy and F-score on the testing data? Are these scores better or worse than the unoptimized model? How do the results from your optimized model compare to the naive predictor benchmarks you found earlier in **Question 1**?_  \n",
    "**Note:** Fill in the table below with your results, and then provide discussion in the **Answer** box."
   ]
  },
  {
   "cell_type": "markdown",
   "metadata": {},
   "source": [
    "#### Results:\n",
    "\n",
    "|     Metric     | Benchmark Predictor | Unoptimized Model | Optimized Model |\n",
    "| :------------: | :-----------------: | :---------------: | :-------------: | \n",
    "| Accuracy Score | 0.2478              | 0.8483            | 0.8491          |\n",
    "| F-score        | 0.2917              | 0.6993            | 0.7025          |\n"
   ]
  },
  {
   "cell_type": "markdown",
   "metadata": {},
   "source": [
    "**Answer: **\n",
    "\n",
    "Comparing the naive model in Question 1, both the unoptimized and optimized model made a great improvement. Especially, the optimized model made improvement on the unoptimized model, although very small. **(Accuracy Score ▲ 0.09%, F-Score ▲ 0.4%)**\n",
    "\n",
    "So it would be safe to say that optimization on logistic regression worked, but the metrics improvement is not exactly worthwhile the long tuning time. "
   ]
  },
  {
   "cell_type": "code",
   "execution_count": 106,
   "metadata": {
    "collapsed": false
   },
   "outputs": [
    {
     "name": "stderr",
     "output_type": "stream",
     "text": [
      "/Users/aaronan/anaconda/envs/py27/lib/python2.7/site-packages/IPython/html.py:14: ShimWarning: The `IPython.html` package has been deprecated. You should import from `notebook` instead. `IPython.html.widgets` has moved to `ipywidgets`.\n",
      "  \"`IPython.html.widgets` has moved to `ipywidgets`.\", ShimWarning)\n"
     ]
    },
    {
     "data": {
      "text/plain": [
       "<matplotlib.axes._subplots.AxesSubplot at 0x11056f150>"
      ]
     },
     "execution_count": 106,
     "metadata": {},
     "output_type": "execute_result"
    },
    {
     "data": {
      "image/png": "[encoded data removed]",
      "text/plain": [
       "<matplotlib.figure.Figure at 0x11bc7e690>"
      ]
     },
     "metadata": {},
     "output_type": "display_data"
    }
   ],
   "source": [
    "## Pro Tips: Getting Confusion Matrix\n",
    "\n",
    "from sklearn.metrics import confusion_matrix\n",
    "import seaborn as sns\n",
    "%matplotlib inline\n",
    "\n",
    "pred = best_clf.predict(X_test)\n",
    "sns.heatmap(confusion_matrix(y_test, pred), annot = True, fmt = '')"
   ]
  },
  {
   "cell_type": "markdown",
   "metadata": {},
   "source": [
    "----\n",
    "## Feature Importance\n",
    "\n",
    "An important task when performing supervised learning on a dataset like the census data we study here is determining which features provide the most predictive power. By focusing on the relationship between only a few crucial features and the target label we simplify our understanding of the phenomenon, which is most always a useful thing to do. In the case of this project, that means we wish to identify a small number of features that most strongly predict whether an individual makes at most or more than \\$50,000.\n",
    "\n",
    "Choose a scikit-learn classifier (e.g., adaboost, random forests) that has a `feature_importance_` attribute, which is a function that ranks the importance of features according to the chosen classifier.  In the next python cell fit this classifier to training set and use this attribute to determine the top 5 most important features for the census dataset."
   ]
  },
  {
   "cell_type": "markdown",
   "metadata": {},
   "source": [
    "### Question 6 - Feature Relevance Observation\n",
    "When **Exploring the Data**, it was shown there are thirteen available features for each individual on record in the census data.  \n",
    "_Of these thirteen records, which five features do you believe to be most important for prediction, and in what order would you rank them and why?_"
   ]
  },
  {
   "cell_type": "code",
   "execution_count": 79,
   "metadata": {
    "collapsed": false
   },
   "outputs": [
    {
     "data": {
      "text/plain": [
       "Index([u'age', u'workclass', u'education_level', u'education-num',\n",
       "       u'marital-status', u'occupation', u'relationship', u'race', u'sex',\n",
       "       u'capital-gain', u'capital-loss', u'hours-per-week', u'native-country'],\n",
       "      dtype='object')"
      ]
     },
     "execution_count": 79,
     "metadata": {},
     "output_type": "execute_result"
    }
   ],
   "source": [
    "# reminder of the columns\n",
    "\n",
    "features_raw.columns"
   ]
  },
  {
   "cell_type": "markdown",
   "metadata": {},
   "source": [
    "**Answer:**\n",
    "\n",
    "In predicting whether income will be greater than 50K dollars, I hypothesize that features that we conventionally think correlates with income will be the most important. Below are my gusess in rank from most important to the least:\n",
    "\n",
    "- **age**: age highly correlated with working experience and tenture, which I believe is (slightly sadly) the most important features in determining income. \n",
    "- **education level**: higher education and longer education years should be an important features in getting more income in the job market. \n",
    "- **education num**: same as above. \n",
    "- **occupation**: what you do should be highly correlated with income, but should be less deterministic than the ones selected above. \n",
    "- **hours-per-week**: work longer should in general be paid more, with other features controlled, but this should also come after other factors. \n"
   ]
  },
  {
   "cell_type": "markdown",
   "metadata": {},
   "source": [
    "### Implementation - Extracting Feature Importance\n",
    "Choose a `scikit-learn` supervised learning algorithm that has a `feature_importance_` attribute availble for it. This attribute is a function that ranks the importance of each feature when making predictions based on the chosen algorithm.\n",
    "\n",
    "In the code cell below, you will need to implement the following:\n",
    " - Import a supervised learning model from sklearn if it is different from the three used earlier.\n",
    " - Train the supervised model on the entire training set.\n",
    " - Extract the feature importances using `'.feature_importances_'`."
   ]
  },
  {
   "cell_type": "code",
   "execution_count": 72,
   "metadata": {
    "collapsed": false
   },
   "outputs": [
    {
     "data": {
      "image/png": "[encoded data removed]",
      "text/plain": [
       "<matplotlib.figure.Figure at 0x1109ba050>"
      ]
     },
     "metadata": {},
     "output_type": "display_data"
    }
   ],
   "source": [
    "# TODO: Import a supervised learning model that has 'feature_importances_'\n",
    "\n",
    "clf = RandomForestClassifier(random_state=12345)\n",
    "\n",
    "# TODO: Train the supervised model on the training set \n",
    "model = clf.fit(X_train, y_train)\n",
    "\n",
    "# TODO: Extract the feature importances\n",
    "importances = model.feature_importances_\n",
    "\n",
    "# Plot\n",
    "vs.feature_plot(importances, X_train, y_train)"
   ]
  },
  {
   "cell_type": "markdown",
   "metadata": {},
   "source": [
    "### Question 7 - Extracting Feature Importance\n",
    "\n",
    "Observe the visualization created above which displays the five most relevant features for predicting if an individual makes at most or above \\$50,000.  \n",
    "_How do these five features compare to the five features you discussed in **Question 6**? If you were close to the same answer, how does this visualization confirm your thoughts? If you were not close, why do you think these features are more relevant?_"
   ]
  },
  {
   "cell_type": "markdown",
   "metadata": {},
   "source": [
    "**Answer:**\n",
    "\n",
    "It turns out that I am somewhat close. The visual rank the most important five features (ranked from left to right), whic collectively weight about 60% of the overall feature importance. \n",
    "\n",
    "I am right about the age being the most important features, but education level didn't even make top 5, education num is the 4th most important. I guess age (correlatedly the working experience is definitely more important than your education level). Hours-per-week turns out to be more important than I expected, not by much though. \n",
    "\n",
    "The most unexpected factor that ended up in the top 5 is marritial-status, having a spouse turns out to be highly correlated with having higher income, which I guess is due to its correlation with age being elder. "
   ]
  },
  {
   "cell_type": "markdown",
   "metadata": {},
   "source": [
    "### Feature Selection\n",
    "How does a model perform if we only use a subset of all the available features in the data? With less features required to train, the expectation is that training and prediction time is much lower — at the cost of performance metrics. From the visualization above, we see that the top five most important features contribute more than half of the importance of **all** features present in the data. This hints that we can attempt to *reduce the feature space* and simplify the information required for the model to learn. The code cell below will use the same optimized model you found earlier, and train it on the same training set *with only the top five important features*. "
   ]
  },
  {
   "cell_type": "code",
   "execution_count": 80,
   "metadata": {
    "collapsed": false
   },
   "outputs": [
    {
     "name": "stdout",
     "output_type": "stream",
     "text": [
      "Final Model trained on full data\n",
      "------\n",
      "Accuracy on testing data: 0.8491\n",
      "F-score on testing data: 0.7025\n",
      "\n",
      "Final Model trained on reduced data\n",
      "------\n",
      "Accuracy on testing data: 0.8350\n",
      "F-score on testing data: 0.6709\n"
     ]
    }
   ],
   "source": [
    "# Import functionality for cloning a model\n",
    "from sklearn.base import clone\n",
    "\n",
    "# Reduce the feature space\n",
    "X_train_reduced = X_train[X_train.columns.values[(np.argsort(importances)[::-1])[:5]]]\n",
    "X_test_reduced = X_test[X_test.columns.values[(np.argsort(importances)[::-1])[:5]]]\n",
    "\n",
    "# Train on the \"best\" model found from grid search earlier\n",
    "clf = (clone(best_clf)).fit(X_train_reduced, y_train)\n",
    "\n",
    "# Make new predictions\n",
    "reduced_predictions = clf.predict(X_test_reduced)\n",
    "\n",
    "# Report scores from the final model using both versions of data\n",
    "print \"Final Model trained on full data\\n------\"\n",
    "print \"Accuracy on testing data: {:.4f}\".format(accuracy_score(y_test, best_predictions))\n",
    "print \"F-score on testing data: {:.4f}\".format(fbeta_score(y_test, best_predictions, beta = 0.5))\n",
    "print \"\\nFinal Model trained on reduced data\\n------\"\n",
    "print \"Accuracy on testing data: {:.4f}\".format(accuracy_score(y_test, reduced_predictions))\n",
    "print \"F-score on testing data: {:.4f}\".format(fbeta_score(y_test, reduced_predictions, beta = 0.5))"
   ]
  },
  {
   "cell_type": "code",
   "execution_count": 107,
   "metadata": {
    "collapsed": false
   },
   "outputs": [
    {
     "data": {
      "text/html": [
       "<div>\n",
       "<table border=\"1\" class=\"dataframe\">\n",
       "  <thead>\n",
       "    <tr style=\"text-align: right;\">\n",
       "      <th></th>\n",
       "      <th>Coef_</th>\n",
       "      <th>Odds_Ratio_</th>\n",
       "      <th>P_values</th>\n",
       "    </tr>\n",
       "  </thead>\n",
       "  <tbody>\n",
       "    <tr>\n",
       "      <th>age</th>\n",
       "      <td>1.673601</td>\n",
       "      <td>5.331333e+00</td>\n",
       "      <td>8.999303e-50</td>\n",
       "    </tr>\n",
       "    <tr>\n",
       "      <th>education-num</th>\n",
       "      <td>1.682740</td>\n",
       "      <td>5.380277e+00</td>\n",
       "      <td>1.472909e-43</td>\n",
       "    </tr>\n",
       "    <tr>\n",
       "      <th>capital-gain</th>\n",
       "      <td>18.590313</td>\n",
       "      <td>1.184870e+08</td>\n",
       "      <td>2.403480e-202</td>\n",
       "    </tr>\n",
       "    <tr>\n",
       "      <th>capital-loss</th>\n",
       "      <td>2.657013</td>\n",
       "      <td>1.425365e+01</td>\n",
       "      <td>2.981337e-79</td>\n",
       "    </tr>\n",
       "    <tr>\n",
       "      <th>hours-per-week</th>\n",
       "      <td>2.609884</td>\n",
       "      <td>1.359747e+01</td>\n",
       "      <td>2.661253e-16</td>\n",
       "    </tr>\n",
       "    <tr>\n",
       "      <th>workclass_ Federal-gov</th>\n",
       "      <td>0.219416</td>\n",
       "      <td>1.245349e+00</td>\n",
       "      <td>8.218949e-28</td>\n",
       "    </tr>\n",
       "    <tr>\n",
       "      <th>workclass_ Local-gov</th>\n",
       "      <td>-0.383658</td>\n",
       "      <td>6.813641e-01</td>\n",
       "      <td>2.459998e-07</td>\n",
       "    </tr>\n",
       "    <tr>\n",
       "      <th>workclass_ Private</th>\n",
       "      <td>-0.248609</td>\n",
       "      <td>7.798848e-01</td>\n",
       "      <td>8.411030e-32</td>\n",
       "    </tr>\n",
       "    <tr>\n",
       "      <th>workclass_ Self-emp-inc</th>\n",
       "      <td>-0.046016</td>\n",
       "      <td>9.550269e-01</td>\n",
       "      <td>8.072705e-151</td>\n",
       "    </tr>\n",
       "    <tr>\n",
       "      <th>workclass_ Self-emp-not-inc</th>\n",
       "      <td>-0.735467</td>\n",
       "      <td>4.792818e-01</td>\n",
       "      <td>1.389248e-06</td>\n",
       "    </tr>\n",
       "    <tr>\n",
       "      <th>workclass_ State-gov</th>\n",
       "      <td>-0.565753</td>\n",
       "      <td>5.679323e-01</td>\n",
       "      <td>6.591306e-02</td>\n",
       "    </tr>\n",
       "    <tr>\n",
       "      <th>workclass_ Without-pay</th>\n",
       "      <td>-0.795265</td>\n",
       "      <td>4.514616e-01</td>\n",
       "      <td>1.026640e-01</td>\n",
       "    </tr>\n",
       "    <tr>\n",
       "      <th>education_level_ 10th</th>\n",
       "      <td>-0.707146</td>\n",
       "      <td>4.930493e-01</td>\n",
       "      <td>2.681907e-39</td>\n",
       "    </tr>\n",
       "    <tr>\n",
       "      <th>education_level_ 11th</th>\n",
       "      <td>-0.707628</td>\n",
       "      <td>4.928119e-01</td>\n",
       "      <td>3.210159e-58</td>\n",
       "    </tr>\n",
       "    <tr>\n",
       "      <th>education_level_ 12th</th>\n",
       "      <td>-0.430525</td>\n",
       "      <td>6.501676e-01</td>\n",
       "      <td>6.341993e-18</td>\n",
       "    </tr>\n",
       "    <tr>\n",
       "      <th>education_level_ 1st-4th</th>\n",
       "      <td>-0.645225</td>\n",
       "      <td>5.245445e-01</td>\n",
       "      <td>1.622203e-11</td>\n",
       "    </tr>\n",
       "    <tr>\n",
       "      <th>education_level_ 5th-6th</th>\n",
       "      <td>-0.613082</td>\n",
       "      <td>5.416788e-01</td>\n",
       "      <td>6.873258e-18</td>\n",
       "    </tr>\n",
       "    <tr>\n",
       "      <th>education_level_ 7th-8th</th>\n",
       "      <td>-0.813945</td>\n",
       "      <td>4.431068e-01</td>\n",
       "      <td>3.127458e-26</td>\n",
       "    </tr>\n",
       "    <tr>\n",
       "      <th>education_level_ 9th</th>\n",
       "      <td>-0.821709</td>\n",
       "      <td>4.396796e-01</td>\n",
       "      <td>5.950668e-25</td>\n",
       "    </tr>\n",
       "    <tr>\n",
       "      <th>education_level_ Assoc-acdm</th>\n",
       "      <td>-0.012166</td>\n",
       "      <td>9.879082e-01</td>\n",
       "      <td>3.453702e-01</td>\n",
       "    </tr>\n",
       "    <tr>\n",
       "      <th>education_level_ Assoc-voc</th>\n",
       "      <td>0.052106</td>\n",
       "      <td>1.053487e+00</td>\n",
       "      <td>5.678298e-01</td>\n",
       "    </tr>\n",
       "    <tr>\n",
       "      <th>education_level_ Bachelors</th>\n",
       "      <td>0.460741</td>\n",
       "      <td>1.585248e+00</td>\n",
       "      <td>8.051268e-218</td>\n",
       "    </tr>\n",
       "    <tr>\n",
       "      <th>education_level_ Doctorate</th>\n",
       "      <td>0.952543</td>\n",
       "      <td>2.592294e+00</td>\n",
       "      <td>9.572476e-121</td>\n",
       "    </tr>\n",
       "    <tr>\n",
       "      <th>education_level_ HS-grad</th>\n",
       "      <td>-0.231832</td>\n",
       "      <td>7.930796e-01</td>\n",
       "      <td>5.156822e-102</td>\n",
       "    </tr>\n",
       "    <tr>\n",
       "      <th>education_level_ Masters</th>\n",
       "      <td>0.639267</td>\n",
       "      <td>1.895090e+00</td>\n",
       "      <td>4.335981e-217</td>\n",
       "    </tr>\n",
       "    <tr>\n",
       "      <th>education_level_ Preschool</th>\n",
       "      <td>-0.896437</td>\n",
       "      <td>4.080207e-01</td>\n",
       "      <td>5.361315e-05</td>\n",
       "    </tr>\n",
       "    <tr>\n",
       "      <th>education_level_ Prof-school</th>\n",
       "      <td>1.199814</td>\n",
       "      <td>3.319499e+00</td>\n",
       "      <td>2.612085e-197</td>\n",
       "    </tr>\n",
       "    <tr>\n",
       "      <th>education_level_ Some-college</th>\n",
       "      <td>0.019871</td>\n",
       "      <td>1.020070e+00</td>\n",
       "      <td>1.477430e-21</td>\n",
       "    </tr>\n",
       "    <tr>\n",
       "      <th>marital-status_ Divorced</th>\n",
       "      <td>-0.948193</td>\n",
       "      <td>3.874404e-01</td>\n",
       "      <td>6.427881e-123</td>\n",
       "    </tr>\n",
       "    <tr>\n",
       "      <th>marital-status_ Married-AF-spouse</th>\n",
       "      <td>1.306229</td>\n",
       "      <td>3.692225e+00</td>\n",
       "      <td>1.761838e-02</td>\n",
       "    </tr>\n",
       "    <tr>\n",
       "      <th>...</th>\n",
       "      <td>...</td>\n",
       "      <td>...</td>\n",
       "      <td>...</td>\n",
       "    </tr>\n",
       "    <tr>\n",
       "      <th>native-country_ Greece</th>\n",
       "      <td>0.019793</td>\n",
       "      <td>1.019990e+00</td>\n",
       "      <td>4.313992e-01</td>\n",
       "    </tr>\n",
       "    <tr>\n",
       "      <th>native-country_ Guatemala</th>\n",
       "      <td>-0.272525</td>\n",
       "      <td>7.614542e-01</td>\n",
       "      <td>4.765769e-05</td>\n",
       "    </tr>\n",
       "    <tr>\n",
       "      <th>native-country_ Haiti</th>\n",
       "      <td>0.347240</td>\n",
       "      <td>1.415156e+00</td>\n",
       "      <td>4.271430e-02</td>\n",
       "    </tr>\n",
       "    <tr>\n",
       "      <th>native-country_ Holand-Netherlands</th>\n",
       "      <td>-0.018430</td>\n",
       "      <td>9.817386e-01</td>\n",
       "      <td>5.648891e-01</td>\n",
       "    </tr>\n",
       "    <tr>\n",
       "      <th>native-country_ Honduras</th>\n",
       "      <td>0.078733</td>\n",
       "      <td>1.081915e+00</td>\n",
       "      <td>2.108239e-01</td>\n",
       "    </tr>\n",
       "    <tr>\n",
       "      <th>native-country_ Hong</th>\n",
       "      <td>-0.345779</td>\n",
       "      <td>7.076689e-01</td>\n",
       "      <td>9.896917e-01</td>\n",
       "    </tr>\n",
       "    <tr>\n",
       "      <th>native-country_ Hungary</th>\n",
       "      <td>0.325024</td>\n",
       "      <td>1.384064e+00</td>\n",
       "      <td>6.660327e-01</td>\n",
       "    </tr>\n",
       "    <tr>\n",
       "      <th>native-country_ India</th>\n",
       "      <td>-0.242486</td>\n",
       "      <td>7.846751e-01</td>\n",
       "      <td>5.443249e-05</td>\n",
       "    </tr>\n",
       "    <tr>\n",
       "      <th>native-country_ Iran</th>\n",
       "      <td>0.196924</td>\n",
       "      <td>1.217651e+00</td>\n",
       "      <td>2.283252e-03</td>\n",
       "    </tr>\n",
       "    <tr>\n",
       "      <th>native-country_ Ireland</th>\n",
       "      <td>0.540351</td>\n",
       "      <td>1.716609e+00</td>\n",
       "      <td>9.005359e-01</td>\n",
       "    </tr>\n",
       "    <tr>\n",
       "      <th>native-country_ Italy</th>\n",
       "      <td>0.712482</td>\n",
       "      <td>2.039046e+00</td>\n",
       "      <td>1.879880e-01</td>\n",
       "    </tr>\n",
       "    <tr>\n",
       "      <th>native-country_ Jamaica</th>\n",
       "      <td>-0.016950</td>\n",
       "      <td>9.831927e-01</td>\n",
       "      <td>4.396653e-03</td>\n",
       "    </tr>\n",
       "    <tr>\n",
       "      <th>native-country_ Japan</th>\n",
       "      <td>-0.313713</td>\n",
       "      <td>7.307284e-01</td>\n",
       "      <td>1.907395e-01</td>\n",
       "    </tr>\n",
       "    <tr>\n",
       "      <th>native-country_ Laos</th>\n",
       "      <td>-0.647742</td>\n",
       "      <td>5.232259e-01</td>\n",
       "      <td>2.108239e-01</td>\n",
       "    </tr>\n",
       "    <tr>\n",
       "      <th>native-country_ Mexico</th>\n",
       "      <td>-0.381905</td>\n",
       "      <td>6.825596e-01</td>\n",
       "      <td>3.413364e-32</td>\n",
       "    </tr>\n",
       "    <tr>\n",
       "      <th>native-country_ Nicaragua</th>\n",
       "      <td>-0.703012</td>\n",
       "      <td>4.950918e-01</td>\n",
       "      <td>6.222886e-04</td>\n",
       "    </tr>\n",
       "    <tr>\n",
       "      <th>native-country_ Outlying-US(Guam-USVI-etc)</th>\n",
       "      <td>-0.691356</td>\n",
       "      <td>5.008965e-01</td>\n",
       "      <td>2.131380e-02</td>\n",
       "    </tr>\n",
       "    <tr>\n",
       "      <th>native-country_ Peru</th>\n",
       "      <td>-0.501970</td>\n",
       "      <td>6.053372e-01</td>\n",
       "      <td>2.943905e-02</td>\n",
       "    </tr>\n",
       "    <tr>\n",
       "      <th>native-country_ Philippines</th>\n",
       "      <td>0.350348</td>\n",
       "      <td>1.419562e+00</td>\n",
       "      <td>1.228399e-01</td>\n",
       "    </tr>\n",
       "    <tr>\n",
       "      <th>native-country_ Poland</th>\n",
       "      <td>0.329231</td>\n",
       "      <td>1.389899e+00</td>\n",
       "      <td>5.897350e-01</td>\n",
       "    </tr>\n",
       "    <tr>\n",
       "      <th>native-country_ Portugal</th>\n",
       "      <td>0.528498</td>\n",
       "      <td>1.696383e+00</td>\n",
       "      <td>2.123693e-01</td>\n",
       "    </tr>\n",
       "    <tr>\n",
       "      <th>native-country_ Puerto-Rico</th>\n",
       "      <td>0.142023</td>\n",
       "      <td>1.152603e+00</td>\n",
       "      <td>1.065739e-03</td>\n",
       "    </tr>\n",
       "    <tr>\n",
       "      <th>native-country_ Scotland</th>\n",
       "      <td>-0.708581</td>\n",
       "      <td>4.923422e-01</td>\n",
       "      <td>1.764659e-01</td>\n",
       "    </tr>\n",
       "    <tr>\n",
       "      <th>native-country_ South</th>\n",
       "      <td>-1.307912</td>\n",
       "      <td>2.703839e-01</td>\n",
       "      <td>4.622847e-02</td>\n",
       "    </tr>\n",
       "    <tr>\n",
       "      <th>native-country_ Taiwan</th>\n",
       "      <td>-0.184978</td>\n",
       "      <td>8.311223e-01</td>\n",
       "      <td>1.696405e-03</td>\n",
       "    </tr>\n",
       "    <tr>\n",
       "      <th>native-country_ Thailand</th>\n",
       "      <td>-0.394467</td>\n",
       "      <td>6.740389e-01</td>\n",
       "      <td>3.041233e-01</td>\n",
       "    </tr>\n",
       "    <tr>\n",
       "      <th>native-country_ Trinadad&amp;Tobago</th>\n",
       "      <td>-0.628119</td>\n",
       "      <td>5.335947e-01</td>\n",
       "      <td>1.034693e-01</td>\n",
       "    </tr>\n",
       "    <tr>\n",
       "      <th>native-country_ United-States</th>\n",
       "      <td>0.330852</td>\n",
       "      <td>1.392154e+00</td>\n",
       "      <td>2.061344e-02</td>\n",
       "    </tr>\n",
       "    <tr>\n",
       "      <th>native-country_ Vietnam</th>\n",
       "      <td>-0.878642</td>\n",
       "      <td>4.153467e-01</td>\n",
       "      <td>2.449585e-04</td>\n",
       "    </tr>\n",
       "    <tr>\n",
       "      <th>native-country_ Yugoslavia</th>\n",
       "      <td>0.601597</td>\n",
       "      <td>1.825031e+00</td>\n",
       "      <td>7.765865e-01</td>\n",
       "    </tr>\n",
       "  </tbody>\n",
       "</table>\n",
       "<p>103 rows × 3 columns</p>\n",
       "</div>"
      ],
      "text/plain": [
       "                                                Coef_   Odds_Ratio_  \\\n",
       "age                                          1.673601  5.331333e+00   \n",
       "education-num                                1.682740  5.380277e+00   \n",
       "capital-gain                                18.590313  1.184870e+08   \n",
       "capital-loss                                 2.657013  1.425365e+01   \n",
       "hours-per-week                               2.609884  1.359747e+01   \n",
       "workclass_ Federal-gov                       0.219416  1.245349e+00   \n",
       "workclass_ Local-gov                        -0.383658  6.813641e-01   \n",
       "workclass_ Private                          -0.248609  7.798848e-01   \n",
       "workclass_ Self-emp-inc                     -0.046016  9.550269e-01   \n",
       "workclass_ Self-emp-not-inc                 -0.735467  4.792818e-01   \n",
       "workclass_ State-gov                        -0.565753  5.679323e-01   \n",
       "workclass_ Without-pay                      -0.795265  4.514616e-01   \n",
       "education_level_ 10th                       -0.707146  4.930493e-01   \n",
       "education_level_ 11th                       -0.707628  4.928119e-01   \n",
       "education_level_ 12th                       -0.430525  6.501676e-01   \n",
       "education_level_ 1st-4th                    -0.645225  5.245445e-01   \n",
       "education_level_ 5th-6th                    -0.613082  5.416788e-01   \n",
       "education_level_ 7th-8th                    -0.813945  4.431068e-01   \n",
       "education_level_ 9th                        -0.821709  4.396796e-01   \n",
       "education_level_ Assoc-acdm                 -0.012166  9.879082e-01   \n",
       "education_level_ Assoc-voc                   0.052106  1.053487e+00   \n",
       "education_level_ Bachelors                   0.460741  1.585248e+00   \n",
       "education_level_ Doctorate                   0.952543  2.592294e+00   \n",
       "education_level_ HS-grad                    -0.231832  7.930796e-01   \n",
       "education_level_ Masters                     0.639267  1.895090e+00   \n",
       "education_level_ Preschool                  -0.896437  4.080207e-01   \n",
       "education_level_ Prof-school                 1.199814  3.319499e+00   \n",
       "education_level_ Some-college                0.019871  1.020070e+00   \n",
       "marital-status_ Divorced                    -0.948193  3.874404e-01   \n",
       "marital-status_ Married-AF-spouse            1.306229  3.692225e+00   \n",
       "...                                               ...           ...   \n",
       "native-country_ Greece                       0.019793  1.019990e+00   \n",
       "native-country_ Guatemala                   -0.272525  7.614542e-01   \n",
       "native-country_ Haiti                        0.347240  1.415156e+00   \n",
       "native-country_ Holand-Netherlands          -0.018430  9.817386e-01   \n",
       "native-country_ Honduras                     0.078733  1.081915e+00   \n",
       "native-country_ Hong                        -0.345779  7.076689e-01   \n",
       "native-country_ Hungary                      0.325024  1.384064e+00   \n",
       "native-country_ India                       -0.242486  7.846751e-01   \n",
       "native-country_ Iran                         0.196924  1.217651e+00   \n",
       "native-country_ Ireland                      0.540351  1.716609e+00   \n",
       "native-country_ Italy                        0.712482  2.039046e+00   \n",
       "native-country_ Jamaica                     -0.016950  9.831927e-01   \n",
       "native-country_ Japan                       -0.313713  7.307284e-01   \n",
       "native-country_ Laos                        -0.647742  5.232259e-01   \n",
       "native-country_ Mexico                      -0.381905  6.825596e-01   \n",
       "native-country_ Nicaragua                   -0.703012  4.950918e-01   \n",
       "native-country_ Outlying-US(Guam-USVI-etc)  -0.691356  5.008965e-01   \n",
       "native-country_ Peru                        -0.501970  6.053372e-01   \n",
       "native-country_ Philippines                  0.350348  1.419562e+00   \n",
       "native-country_ Poland                       0.329231  1.389899e+00   \n",
       "native-country_ Portugal                     0.528498  1.696383e+00   \n",
       "native-country_ Puerto-Rico                  0.142023  1.152603e+00   \n",
       "native-country_ Scotland                    -0.708581  4.923422e-01   \n",
       "native-country_ South                       -1.307912  2.703839e-01   \n",
       "native-country_ Taiwan                      -0.184978  8.311223e-01   \n",
       "native-country_ Thailand                    -0.394467  6.740389e-01   \n",
       "native-country_ Trinadad&Tobago             -0.628119  5.335947e-01   \n",
       "native-country_ United-States                0.330852  1.392154e+00   \n",
       "native-country_ Vietnam                     -0.878642  4.153467e-01   \n",
       "native-country_ Yugoslavia                   0.601597  1.825031e+00   \n",
       "\n",
       "                                                 P_values  \n",
       "age                                          8.999303e-50  \n",
       "education-num                                1.472909e-43  \n",
       "capital-gain                                2.403480e-202  \n",
       "capital-loss                                 2.981337e-79  \n",
       "hours-per-week                               2.661253e-16  \n",
       "workclass_ Federal-gov                       8.218949e-28  \n",
       "workclass_ Local-gov                         2.459998e-07  \n",
       "workclass_ Private                           8.411030e-32  \n",
       "workclass_ Self-emp-inc                     8.072705e-151  \n",
       "workclass_ Self-emp-not-inc                  1.389248e-06  \n",
       "workclass_ State-gov                         6.591306e-02  \n",
       "workclass_ Without-pay                       1.026640e-01  \n",
       "education_level_ 10th                        2.681907e-39  \n",
       "education_level_ 11th                        3.210159e-58  \n",
       "education_level_ 12th                        6.341993e-18  \n",
       "education_level_ 1st-4th                     1.622203e-11  \n",
       "education_level_ 5th-6th                     6.873258e-18  \n",
       "education_level_ 7th-8th                     3.127458e-26  \n",
       "education_level_ 9th                         5.950668e-25  \n",
       "education_level_ Assoc-acdm                  3.453702e-01  \n",
       "education_level_ Assoc-voc                   5.678298e-01  \n",
       "education_level_ Bachelors                  8.051268e-218  \n",
       "education_level_ Doctorate                  9.572476e-121  \n",
       "education_level_ HS-grad                    5.156822e-102  \n",
       "education_level_ Masters                    4.335981e-217  \n",
       "education_level_ Preschool                   5.361315e-05  \n",
       "education_level_ Prof-school                2.612085e-197  \n",
       "education_level_ Some-college                1.477430e-21  \n",
       "marital-status_ Divorced                    6.427881e-123  \n",
       "marital-status_ Married-AF-spouse            1.761838e-02  \n",
       "...                                                   ...  \n",
       "native-country_ Greece                       4.313992e-01  \n",
       "native-country_ Guatemala                    4.765769e-05  \n",
       "native-country_ Haiti                        4.271430e-02  \n",
       "native-country_ Holand-Netherlands           5.648891e-01  \n",
       "native-country_ Honduras                     2.108239e-01  \n",
       "native-country_ Hong                         9.896917e-01  \n",
       "native-country_ Hungary                      6.660327e-01  \n",
       "native-country_ India                        5.443249e-05  \n",
       "native-country_ Iran                         2.283252e-03  \n",
       "native-country_ Ireland                      9.005359e-01  \n",
       "native-country_ Italy                        1.879880e-01  \n",
       "native-country_ Jamaica                      4.396653e-03  \n",
       "native-country_ Japan                        1.907395e-01  \n",
       "native-country_ Laos                         2.108239e-01  \n",
       "native-country_ Mexico                       3.413364e-32  \n",
       "native-country_ Nicaragua                    6.222886e-04  \n",
       "native-country_ Outlying-US(Guam-USVI-etc)   2.131380e-02  \n",
       "native-country_ Peru                         2.943905e-02  \n",
       "native-country_ Philippines                  1.228399e-01  \n",
       "native-country_ Poland                       5.897350e-01  \n",
       "native-country_ Portugal                     2.123693e-01  \n",
       "native-country_ Puerto-Rico                  1.065739e-03  \n",
       "native-country_ Scotland                     1.764659e-01  \n",
       "native-country_ South                        4.622847e-02  \n",
       "native-country_ Taiwan                       1.696405e-03  \n",
       "native-country_ Thailand                     3.041233e-01  \n",
       "native-country_ Trinadad&Tobago              1.034693e-01  \n",
       "native-country_ United-States                2.061344e-02  \n",
       "native-country_ Vietnam                      2.449585e-04  \n",
       "native-country_ Yugoslavia                   7.765865e-01  \n",
       "\n",
       "[103 rows x 3 columns]"
      ]
     },
     "execution_count": 107,
     "metadata": {},
     "output_type": "execute_result"
    }
   ],
   "source": [
    "### Pro tip section: logistic regression feature importance\n",
    "\n",
    "\n",
    "from sklearn.feature_selection import chi2\n",
    "from sklearn.linear_model import LogisticRegression\n",
    "\n",
    "clf = LogisticRegression().fit(X_train, y_train)\n",
    "\n",
    "scores, pvalues = chi2(X_train, y_train)\n",
    "\n",
    "coef = pd.DataFrame(zip(clf.coef_.T, np.exp(clf.coef_).T))\n",
    "coef.columns = ['Coef_','Odds_Ratio_']\n",
    "coef['P_values'] = pvalues\n",
    "coef.index = X_train.columns\n",
    "\n",
    "coef.Coef_ = coef.Coef_.astype(np.float64)\n",
    "coef.Odds_Ratio_ = coef.Odds_Ratio_.astype(np.float64)\n",
    "\n",
    "coef"
   ]
  },
  {
   "cell_type": "markdown",
   "metadata": {},
   "source": [
    "### Question 8 - Effects of Feature Selection\n",
    "*How does the final model's F-score and accuracy score on the reduced data using only five features compare to those same scores when all features are used?*  \n",
    "*If training time was a factor, would you consider using the reduced data as your training set?*"
   ]
  },
  {
   "cell_type": "markdown",
   "metadata": {},
   "source": [
    "The reduced model used almost the same time as the model on the full features space (at least the different is almost unobservable to me). In terms of the performance, the reduced model did a little bit wrose on the accuracy, but almost 3% worse on the Fscore, which honestly is a red flag for me. This means the reduced model didn't comprise a lot on accuracy, but made much more false positive error (wrongly classify non-donor as donor) than the full model. \n",
    "\n",
    "From the description, we learned that the false positive error is much much more costly than false negative error to CharityML, which is why we used a metrics that more sensitive to that. This 3% performance drop in large scale would means CharityML wasting loads of money on reaching to those non-donors, which will hurt them greatly in my opinion. \n",
    "\n",
    "Therefore, since we chose the logistic regression as our final best model, I wouldn't use the reduced model, but keep the full model for its increase in performance and tolerable compromise on the training and predict time. "
   ]
  },
  {
   "cell_type": "markdown",
   "metadata": {},
   "source": [
    "**Answer:**"
   ]
  },
  {
   "cell_type": "markdown",
   "metadata": {},
   "source": [
    "> **Note**: Once you have completed all of the code implementations and successfully answered each question above, you may finalize your work by exporting the iPython Notebook as an HTML document. You can do this by using the menu above and navigating to  \n",
    "**File -> Download as -> HTML (.html)**. Include the finished document along with this notebook as your submission."
   ]
  }
 ],
 "metadata": {
  "anaconda-cloud": {},
  "kernelspec": {
   "display_name": "Python [conda env:py27]",
   "language": "python",
   "name": "conda-env-py27-py"
  },
  "language_info": {
   "codemirror_mode": {
    "name": "ipython",
    "version": 2
   },
   "file_extension": ".py",
   "mimetype": "text/x-python",
   "name": "python",
   "nbconvert_exporter": "python",
   "pygments_lexer": "ipython2",
   "version": "2.7.12"
  }
 },
 "nbformat": 4,
 "nbformat_minor": 0
}
